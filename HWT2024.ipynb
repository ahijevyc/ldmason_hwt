{
 "cells": [
  {
   "cell_type": "code",
   "execution_count": 2,
   "id": "1e0a4c0f-2b7d-4d88-bd4e-59f9fd043111",
   "metadata": {},
   "outputs": [],
   "source": [
    "import logging\n",
    "import os\n",
    "import pdb\n",
    "from pathlib import Path\n",
    "\n",
    "import matplotlib.pyplot as plt\n",
    "import pandas as pd\n",
    "import seaborn as sns\n",
    "import xarray\n",
    "from matplotlib.colors import ListedColormap\n",
    "from scipy.ndimage import maximum_filter\n",
    "\n",
    "from contingency_table import accuracy, csi, combine_hmfn, ets, hk, hss, pod, pofd, total\n",
    "from hwt2024 import Model\n",
    "\n",
    "sns.set_theme()\n",
    "logging.basicConfig(level=logging.INFO, format=\"%(asctime)s %(message)s\", force=True)\n",
    "tmpdir = Path(os.getenv(\"TMPDIR\"))"
   ]
  },
  {
   "cell_type": "code",
   "execution_count": 8,
   "id": "6ee929b7-bbdf-4394-95be-fff21d3c5107",
   "metadata": {},
   "outputs": [],
   "source": [
    "# Discrete color scheme for hit, miss, false alarm, and null\n",
    "cMap = ListedColormap([\"tab:green\", \"blue\", \"orangered\", \"white\"])\n",
    "\n",
    "models = [\n",
    "    Model(\n",
    "        \"fv3\",\n",
    "        nmem=10,\n",
    "        v=[\"MXUPHL0_1km_max\", \"MXUPHL0_3km_max\", \"MXUPHL2_5km_max\"],\n",
    "        lead_time_days=8,\n",
    "    ),\n",
    "    Model(\n",
    "        \"mpas\",\n",
    "        nmem=5,\n",
    "        v=[\"updraft_helicity_max01\", \"updraft_helicity_max03\", \"updraft_helicity_max\"],\n",
    "        lead_time_days=5,\n",
    "    ),\n",
    "]\n",
    "lead_time_days = range(5)"
   ]
  },
  {
   "cell_type": "code",
   "execution_count": null,
   "id": "1f46ce0f-8cb4-40b3-832b-420520338650",
   "metadata": {},
   "outputs": [
    {
     "name": "stderr",
     "output_type": "stream",
     "text": [
      "2024-06-27 14:50:51,671 open existing /glade/derecho/scratch/ahijevyc/tmp/near_rpt.2024-05-20 00:00:00.nc\n",
      "2024-06-27 14:50:52,162 open /glade/derecho/scratch/ahijevyc/tmp/forecast_yes.fv3.2024-05-20 00:00:00.5.nc\n",
      "2024-06-27 14:50:52,222 size-5 filter\n",
      "2024-06-27 14:52:27,196 hit\n",
      "2024-06-27 14:52:37,767 miss\n",
      "2024-06-27 14:52:48,450 fa\n",
      "2024-06-27 14:52:57,601 null\n",
      "2024-06-27 14:53:24,336 hmfn\n",
      "2024-06-27 14:54:53,428 Keep value where conus_mask is True; otherwise set to nan.\n",
      "2024-06-27 14:55:36,544 plot\n",
      "2024-06-27 14:55:37,170 open /glade/derecho/scratch/ahijevyc/tmp/forecast_yes.mpas.2024-05-20 00:00:00.5.nc\n",
      "2024-06-27 14:55:37,230 size-5 filter\n",
      "2024-06-27 14:55:53,350 hit\n",
      "2024-06-27 14:55:56,249 miss\n",
      "2024-06-27 14:56:00,755 fa\n",
      "2024-06-27 14:56:03,609 null\n",
      "2024-06-27 14:56:33,816 hmfn\n",
      "2024-06-27 14:58:39,409 Keep value where conus_mask is True; otherwise set to nan.\n",
      "2024-06-27 15:00:14,941 plot\n"
     ]
    },
    {
     "name": "stdout",
     "output_type": "stream",
     "text": [
      "/glade/derecho/scratch/ahijevyc/tmp/hmfn.20240520.day1.5.150.hail.png\n"
     ]
    },
    {
     "name": "stderr",
     "output_type": "stream",
     "text": [
      "2024-06-27 15:00:36,798 open /glade/derecho/scratch/ahijevyc/tmp/forecast_yes.fv3.2024-05-20 00:00:00.5.nc\n"
     ]
    }
   ],
   "source": [
    "valid_date = pd.to_datetime(\"20240520\")\n",
    "filter_size = 5\n",
    "thresh = 150\n",
    "rpt_type = \"hail\"\n",
    "\n",
    "\n",
    "rptfile = tmpdir / f\"near_rpt.{valid_date}.nc\"\n",
    "logging.info(f\"open existing {rptfile}\")\n",
    "near_rpts = xarray.open_dataarray(rptfile)\n",
    "conus_mask = xarray.open_dataarray(\n",
    "    Path(os.getenv(\"HOME\").replace(os.getenv(\"USER\"), \"ahijevyc\")) / \"HWT_2024.conus.nc\"\n",
    ")\n",
    "\n",
    "plt.close(\"all\")\n",
    "for dayForecast in range(1,6):\n",
    "    ofile = tmpdir / f\"hmfn.{valid_date.strftime('%Y%m%d')}.day{dayForecast}.{filter_size}.{thresh}.{rpt_type}.png\"\n",
    "    fig, axes = plt.subplots(ncols=len(models), figsize=(11, 5))\n",
    "    for model, ax in zip(models, axes):\n",
    "        ncfile = tmpdir / f\"forecast_yes.{model}.{valid_date}.{lead_time_days.stop}.nc\"\n",
    "        logging.info(f\"open {ncfile}\")\n",
    "        fy = xarray.open_dataarray(ncfile)\n",
    "        \n",
    "        logging.info(f\"size-{filter_size} filter\")\n",
    "        # scipy.ndimage filter requires smoothing dimensions (\"lon\", \"lat\"; axes argument),\n",
    "        # to be specified with their index positions. You can't refer to them by their string names.\n",
    "        londim = fy.dims.index(\"lon\")\n",
    "        latdim = fy.dims.index(\"lat\")\n",
    "        smoothfy = maximum_filter(fy, size=filter_size, axes=(londim,latdim))\n",
    "        fy = xarray.DataArray(smoothfy, dims=fy.dims, coords=fy.coords, attrs=fy.attrs)\n",
    "        \n",
    "        logging.info(\"hit\")\n",
    "        h = fy * near_rpts\n",
    "        logging.info(\"miss\")\n",
    "        m = ~fy * near_rpts\n",
    "        logging.info(\"fa\")\n",
    "        f = fy * ~near_rpts\n",
    "        logging.info(\"null\")\n",
    "        n = ~fy * ~near_rpts\n",
    "\n",
    "        contingency_table = combine_hmfn(h,m,f,n).sum(dim=[\"lon\",\"lat\"])\n",
    "        sel = dict(thresh=thresh, variable=model.v[2], dayForecast=dayForecast, rpt_type=rpt_type)\n",
    "        ax.text(0.1, 0.1, f\"ets {ets(contingency_table.sel(sel)):.3f}\", transform=ax.transAxes) \n",
    "        logging.info(\"hmfn\")\n",
    "        hmfn = m + f * 2 + n * 3\n",
    "    \n",
    "        logging.info(\"Keep value where conus_mask is True; otherwise set to nan.\")\n",
    "        hmfn = hmfn.where(conus_mask)\n",
    "        logging.info(\"plot\")\n",
    "        qax = hmfn.sel(sel).plot(\n",
    "            cmap=cMap, ax=ax, add_colorbar=False\n",
    "        )\n",
    "        # hide ticks. coordinates are not really \"lon\" and \"lat\" anyway. they are model indices.\n",
    "        qax.axes.get_xaxis().set_ticks([])\n",
    "        qax.axes.get_yaxis().set_ticks([])\n",
    "        qax.axes.set_ylabel(None)\n",
    "        # label xaxis with model\n",
    "        qax.axes.set_xlabel(model)\n",
    "\n",
    "    # Nice hmfn colorbar\n",
    "    cbar = plt.colorbar(qax, ax=axes, orientation=\"horizontal\", aspect=32)\n",
    "    cbar.ax.get_xaxis().set_ticks([])\n",
    "    # label in center of color\n",
    "    for j, lab in enumerate([\"hit\", \"miss\", \"false alarm\", \"correct null\"]):\n",
    "        cbar.ax.text(3 * (1 + (2 * j)) / 8.0, 0.5, lab, ha=\"center\", va=\"center\")\n",
    "\n",
    "    # title\n",
    "    valid_range = valid_date + pd.to_timedelta(12, unit=\"hour\"), valid_date + pd.to_timedelta(36, unit=\"hour\")\n",
    "    vrstr = valid_range[0].strftime(\"%Y-%m-%d %Hz - \") + valid_range[1].strftime(\"%Y-%m-%d %Hz\")\n",
    "    plt.suptitle(vrstr + f\" thresh={thresh} filter={filter_size} {rpt_type}\")\n",
    "    fig.savefig(ofile, dpi=150)\n",
    "    print(ofile)"
   ]
  },
  {
   "cell_type": "code",
   "execution_count": null,
   "id": "16aa158a-959f-45d6-83e8-90a874aa883a",
   "metadata": {},
   "outputs": [],
   "source": []
  },
  {
   "cell_type": "code",
   "execution_count": null,
   "id": "1d3256d2-32fb-4d48-833c-24af85364b56",
   "metadata": {},
   "outputs": [],
   "source": []
  }
 ],
 "metadata": {
  "kernelspec": {
   "display_name": "NPL 2024a",
   "language": "python",
   "name": "npl-2024a"
  },
  "language_info": {
   "codemirror_mode": {
    "name": "ipython",
    "version": 3
   },
   "file_extension": ".py",
   "mimetype": "text/x-python",
   "name": "python",
   "nbconvert_exporter": "python",
   "pygments_lexer": "ipython3",
   "version": "3.11.6"
  }
 },
 "nbformat": 4,
 "nbformat_minor": 5
}
