{
 "cells": [
  {
   "cell_type": "code",
   "execution_count": 8,
   "id": "9c5924f0-82f7-4371-be1f-1cfdeebe31c7",
   "metadata": {},
   "outputs": [
    {
     "name": "stdout",
     "output_type": "stream",
     "text": [
      "8168 Subdirectories found\n",
      "\n",
      "Subdirectory list saved to 'subdirectories.json'\n"
     ]
    }
   ],
   "source": [
    "import os\n",
    "import json  # For potentially saving in a structured format\n",
    "\n",
    "def get_subdirectories(directory):\n",
    "  \"\"\"\n",
    "  Returns a list of subdirectory names within the given directory.\n",
    "\n",
    "  Args:\n",
    "    directory (str): The path to the directory to inspect.\n",
    "\n",
    "  Returns:\n",
    "    list: A list of strings, where each string is the name of a subdirectory.\n",
    "          Returns an empty list if the directory doesn't exist or has no subdirectories.\n",
    "  \"\"\"\n",
    "  subdirectories = []\n",
    "  if os.path.isdir(directory):\n",
    "    for item in os.listdir(directory):\n",
    "      item_path = os.path.join(directory, item)\n",
    "      if os.path.isdir(item_path):\n",
    "        subdirectories.append(item)\n",
    "  else:\n",
    "      print(\"no\")\n",
    "  return subdirectories\n",
    "\n",
    "# --- Example Usage within a Jupyter Notebook ---\n",
    "\n",
    "# Specify the directory you want to inspect\n",
    "target_directory = \"/glade/derecho/scratch/\"  # Replace with the actual path\n",
    "\n",
    "# Get the list of subdirectories\n",
    "subdirectory_list = get_subdirectories(target_directory)\n",
    "\n",
    "# Print the list in the Jupyter Notebook output\n",
    "print(f\"{len(subdirectory_list)} Subdirectories found\")\n",
    "# --- Optional: Save the list to a file (e.g., JSON) ---\n",
    "\n",
    "save_to_file = True  # Set to True if you want to save to a file\n",
    "output_filename = \"subdirectories.json\"\n",
    "\n",
    "if save_to_file:\n",
    "  try:\n",
    "    with open(output_filename, 'w') as f:\n",
    "      json.dump(subdirectory_list, f, indent=2)\n",
    "    print(f\"\\nSubdirectory list saved to '{output_filename}'\")\n",
    "  except Exception as e:\n",
    "    print(f\"\\nError saving to file: {e}\")"
   ]
  },
  {
   "cell_type": "code",
   "execution_count": 32,
   "id": "5b62e974-9e82-404a-a0c0-3796c99d956a",
   "metadata": {},
   "outputs": [
    {
     "data": {
      "image/png": "[encoded data removed]",
      "text/plain": [
       "<Figure size 640x480 with 1 Axes>"
      ]
     },
     "metadata": {},
     "output_type": "display_data"
    }
   ],
   "source": [
    "import numpy as np\n",
    "import matplotlib.pyplot as plt\n",
    "import string\n",
    "\n",
    "def get_decimal_representation(username):\n",
    "  \"\"\"\n",
    "  Generates a decimal representation based on the letters after the first.\n",
    "\n",
    "  Args:\n",
    "    username: A string representing a username.\n",
    "\n",
    "  Returns:\n",
    "    A float representing the decimal part based on subsequent letters,\n",
    "    or 0.0 if there are no subsequent letters or they are not lowercase.\n",
    "  \"\"\"\n",
    "  decimal_value = 0.0\n",
    "  for i, char in enumerate(username.lower()):\n",
    "    if char in string.ascii_lowercase:\n",
    "      decimal_value += (ord(char) - ord('a') + 1) / (26**i)\n",
    "  return decimal_value\n",
    "\n",
    "def plot_username_histogram_with_decimals(usernames):\n",
    "  \"\"\"\n",
    "  Plot an alphabetical histogram of usernames.\n",
    "\n",
    "  Args:\n",
    "    usernames: A list of strings representing usernames.\n",
    "  \"\"\"\n",
    "  letter_numbers = []\n",
    "\n",
    "  for username in usernames:\n",
    "    letter_numbers.append(get_decimal_representation(username))\n",
    "\n",
    "  plt.hist(letter_numbers, bins=np.arange(1, 27, 0.25), align='left')\n",
    "  plt.xticks(range(1, 27), list(string.ascii_lowercase))\n",
    "  plt.xlabel(\"First Letter\")\n",
    "  plt.ylabel(\"Frequency\")\n",
    "  plt.title(\"Usernames\")\n",
    "  plt.grid(axis='y', alpha=0.75)\n",
    "  plt.show()\n",
    "\n",
    "# Example Usage\n",
    "usernames = subdirectory_list\n",
    "plot_username_histogram_with_decimals(usernames)"
   ]
  },
  {
   "cell_type": "code",
   "execution_count": 6,
   "id": "a3a4510d-d50b-4073-bb92-128fefd3e1ab",
   "metadata": {},
   "outputs": [
    {
     "data": {
      "text/plain": [
       "False"
      ]
     },
     "execution_count": 6,
     "metadata": {},
     "output_type": "execute_result"
    }
   ],
   "source": [
    "os.path.isdir(target_directory)"
   ]
  },
  {
   "cell_type": "code",
   "execution_count": 17,
   "id": "ffddf8ef-af6d-45ce-af79-4d3b14d67fd7",
   "metadata": {},
   "outputs": [
    {
     "ename": "NameError",
     "evalue": "name 'decimal_representations' is not defined",
     "output_type": "error",
     "traceback": [
      "\u001b[0;31m---------------------------------------------------------------------------\u001b[0m",
      "\u001b[0;31mNameError\u001b[0m                                 Traceback (most recent call last)",
      "Cell \u001b[0;32mIn[17], line 1\u001b[0m\n\u001b[0;32m----> 1\u001b[0m \u001b[43mdecimal_representations\u001b[49m\n",
      "\u001b[0;31mNameError\u001b[0m: name 'decimal_representations' is not defined"
     ]
    }
   ],
   "source": [
    "decimal_representations"
   ]
  },
  {
   "cell_type": "code",
   "execution_count": null,
   "id": "02c4317f-c5d9-42fe-99c7-53a332e108e7",
   "metadata": {},
   "outputs": [],
   "source": []
  }
 ],
 "metadata": {
  "kernelspec": {
   "display_name": "NPL 2025a",
   "language": "python",
   "name": "npl-2025a"
  },
  "language_info": {
   "codemirror_mode": {
    "name": "ipython",
    "version": 3
   },
   "file_extension": ".py",
   "mimetype": "text/x-python",
   "name": "python",
   "nbconvert_exporter": "python",
   "pygments_lexer": "ipython3",
   "version": "3.12.8"
  }
 },
 "nbformat": 4,
 "nbformat_minor": 5
}
